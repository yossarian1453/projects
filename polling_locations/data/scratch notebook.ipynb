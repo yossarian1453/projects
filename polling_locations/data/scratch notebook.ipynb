{
 "cells": [
  {
   "cell_type": "code",
   "execution_count": 18,
   "id": "4b7bbf6b-58d3-41c4-b3fd-f5f7c48fd31a",
   "metadata": {},
   "outputs": [],
   "source": [
    "import os\n",
    "import pandas as pd\n",
    "import chardet\n",
    "import json\n",
    "from pathlib import Path\n",
    "from sqlalchemy import create_engine\n",
    "import subprocess\n",
    "\n",
    "current_directory = os.getcwd()\n"
   ]
  },
  {
   "cell_type": "code",
   "execution_count": 2,
   "id": "e00407af-ab5f-48a3-a890-9e6900908f27",
   "metadata": {},
   "outputs": [],
   "source": [
    "def detect_encoding(file_path):\n",
    "    with open(file_path, \"rb\") as f:\n",
    "        result = chardet.detect(f.read(10000))\n",
    "    return result[\"encoding\"]\n",
    "\n",
    "def convert_utf(file_name):\n",
    "    file_path = f\"data/nc/{file_name}.csv\"\n",
    "    detected_encoding = detect_encoding(file_path)\n",
    "    \n",
    "    df = pd.read_csv(file_path, encoding=detected_encoding, sep=\"\\t\")\n",
    "    \n",
    "    output_path = f\"data/nc/{file_name}_utf8.csv\"\n",
    "    df.to_csv(output_path, encoding=\"utf-8\", index=False)\n",
    "\n",
    "file_name_list = ['nc_polling_place_20121106', 'nc_polling_place_20161108', 'nc_polling_place_20201103']\n",
    "\n",
    "for file in file_name_list:\n",
    "    convert_utf(file)\n"
   ]
  },
  {
   "cell_type": "code",
   "execution_count": 3,
   "id": "310bf1f7-0621-4b81-8a58-97e149801c60",
   "metadata": {},
   "outputs": [],
   "source": [
    "with open(Path(\"~/pg_db_config.json\").expanduser(), \"r\") as f:\n",
    "    db_params = json.load(f)\n",
    "\n",
    "engine = create_engine(f\"postgresql://{db_params['user']}:{db_params['password']}@{db_params['host']}:{db_params['port']}/{db_params['dbname']}\")\n",
    "\n",
    "def run_query(query):\n",
    "    df = pd.read_sql(query, engine)\n",
    "    return df\n",
    "\n",
    "query1 = \"\"\"\n",
    "SELECT * \n",
    "FROM analysis.nc_2016\n",
    "\"\"\"\n",
    "\n",
    "df = run_query(query1)"
   ]
  },
  {
   "cell_type": "code",
   "execution_count": 4,
   "id": "d6511bee-fa66-4ea2-96a3-d3649c8dd984",
   "metadata": {},
   "outputs": [],
   "source": [
    "\n",
    "input_file = \"/Users/robertness/projects/polling_locations/data/nc/VR_Snapshot_20161108.txt\"\n",
    "output_file = \"/Users/robertness/projects/polling_locations/data/nc/VR_Snapshot_20161108_utf8.txt\"\n",
    "\n",
    "# # Ensure the output directory exists\n",
    "# output_dir = os.path.dirname(output_file)\n",
    "# os.makedirs(output_dir, exist_ok=True)\n",
    "\n",
    "# if not os.path.exists(output_file):\n",
    "#     open(output_file, 'w').close()  # Creates an empty file\n",
    "\n",
    "# # Run the iconv command inside Python\n",
    "# try:\n",
    "#     subprocess.run([\"iconv\", \"-f\", \"UTF-16\", \"-t\", \"UTF-8\", input_file, \"-o\", output_file], check=True)\n",
    "#     print(\"Process complete! File converted successfully to UTF-8.\")\n",
    "# except subprocess.CalledProcessError as e:\n",
    "#     print(f\"Error converting file: {e}\")\n",
    "\n",
    "\n",
    "\n",
    "# print(\"Process complete!\")\n",
    "# os.system(\"say 'Process complete!'\")  # Uses macOS built-in speech\n",
    "\n"
   ]
  },
  {
   "cell_type": "code",
   "execution_count": 17,
   "id": "47ec81af-95a4-457b-986f-098c6e144196",
   "metadata": {},
   "outputs": [
    {
     "data": {
      "text/plain": [
       "['county_desc',\n",
       " 'election_date',\n",
       " 'stats_type',\n",
       " 'precinct_abbrv',\n",
       " 'vtd_abbrv',\n",
       " 'party_cd',\n",
       " 'race_code',\n",
       " 'ethnic_code',\n",
       " 'sex_code',\n",
       " 'age',\n",
       " 'total_voters',\n",
       " 'update_date']"
      ]
     },
     "execution_count": 17,
     "metadata": {},
     "output_type": "execute_result"
    }
   ],
   "source": [
    "df = pd.read_csv(\"/Users/robertness/projects/polling_locations/data/nc/voter_stats_20161108.txt\", sep=\"\\t\")\n",
    "# df.to_csv('vr_snapshot_preview.csv',index=False)\n",
    "df.columns.tolist()\n",
    "# df"
   ]
  },
  {
   "cell_type": "code",
   "execution_count": 6,
   "id": "b1841dab-47c1-4a61-8740-7ff7b177ce32",
   "metadata": {},
   "outputs": [
    {
     "data": {
      "text/plain": [
       "'\\niconv -f UTF-16 -t UTF-8 /Users/robertness/projects/polling_locations/data/nc/VR_Snapshot_20161108.txt > /Users/robertness/projects/polling_locations/data/nc/VR_Snapshot_20161108_utf8.txt\\n'"
      ]
     },
     "execution_count": 6,
     "metadata": {},
     "output_type": "execute_result"
    }
   ],
   "source": [
    "\"\"\"\n",
    "iconv -f UTF-16 -t UTF-8 /Users/robertness/projects/polling_locations/data/nc/VR_Snapshot_20201103.txt | tr -d '\\000' > /Users/robertness/projects/polling_locations/data/nc/VR_Snapshot_20201103_clean.txt\n",
    "\n",
    "wc -l /Users/robertness/projects/polling_locations/data/nc/VR_Snapshot_20161108.txt\n",
    "\n",
    "wc -l /Users/robertness/projects/polling_locations/data/nc/VR_Snapshot_20161108_clean.txt\n",
    "\n",
    "iconv -f UTF-16 -t UTF-8 /Users/robertness/projects/polling_locations/data/nc/voter_stats_20161108.txt | tr -d '\\000' > /Users/robertness/projects/polling_locations/data/nc/voter_stats_20161108_clean.txt\n",
    "\n",
    "iconv -f UTF-16 -t UTF-8 /Users/robertness/projects/polling_locations/data/nc/voter_stats_20161108.txt | tr -d '\\000' > /Users/robertness/projects/polling_locations/data/nc/voter_stats_20161108_fixed.txt\n",
    "\n",
    "\"\"\""
   ]
  },
  {
   "cell_type": "code",
   "execution_count": 19,
   "id": "07848e51-c95e-4476-9114-ccd3a5a1db79",
   "metadata": {},
   "outputs": [
    {
     "name": "stdout",
     "output_type": "stream",
     "text": [
      "Detected encoding: ascii\n"
     ]
    }
   ],
   "source": [
    "file_path = \"/Users/robertness/projects/polling_locations/data/nc/voter_stats_20161108.txt\"\n",
    "\n",
    "with open(file_path, \"rb\") as f:\n",
    "    raw_data = f.read(100000)  # Read first 100KB of the file\n",
    "    result = chardet.detect(raw_data)\n",
    "    encoding = result[\"encoding\"]\n",
    "\n",
    "print(f\"Detected encoding: {encoding}\")\n"
   ]
  },
  {
   "cell_type": "code",
   "execution_count": 34,
   "id": "14aabf97-d1fe-403a-9cd1-516bc5f52b52",
   "metadata": {},
   "outputs": [],
   "source": [
    "import os\n",
    "import pandas as pd\n",
    "import chardet\n",
    "import subprocess\n",
    "from pathlib import Path\n",
    "\n",
    "\n",
    "current_directory = os.getcwd()\n",
    "\n",
    "\n",
    "data_directory = os.path.join(current_directory, \"polling_locations/data/nc\")\n",
    "\n",
    "\n",
    "def detect_encoding(file_path):\n",
    "    with open(file_path, \"rb\") as f:\n",
    "        result = chardet.detect(f.read(10000))\n",
    "    return result[\"encoding\"]\n",
    "\n",
    "\n",
    "def remove_null_bytes(file_name):\n",
    "    file_path = os.path.join(data_directory, f\"{file_name}.txt\")\n",
    "    \n",
    "\n",
    "    if not os.path.exists(file_path):\n",
    "        print(f\"File not found: {file_path}\")\n",
    "        return\n",
    "\n",
    "\n",
    "    temp_file = file_path + \"_clean\"\n",
    "\n",
    "    with open(file_path, \"rb\") as f_in, open(temp_file, \"wb\") as f_out:\n",
    "        for line in f_in:\n",
    "            f_out.write(line.replace(b\"\\x00\", b\"\"))\n",
    "\n",
    "\n",
    "    os.replace(temp_file, file_path)\n",
    "    print(f\"NULL bytes removed from: {file_path}\")\n",
    "\n",
    "\n",
    "def process_csv(file_name):\n",
    "    file_path = os.path.join(data_directory, f\"{file_name}.txt\")\n",
    "\n",
    "\n",
    "    remove_null_bytes(file_name)\n",
    "\n",
    "\n",
    "    detected_encoding = detect_encoding(file_path)\n",
    "    \n",
    "\n",
    "    df = pd.read_csv(file_path, encoding=detected_encoding, sep=\"\\t\")\n",
    "    print(f\"Successfully read {file_name}.txt with encoding: {detected_encoding}\")\n",
    "    \n",
    "    return df\n",
    "\n",
    "\n",
    "file_name_list = [\n",
    "    \"voter_stats_20161108\",\n",
    "    \"voter_stats_20201103\",\n",
    "    \"voter_stats_20241105\"\n",
    "]\n",
    "\n",
    "\n",
    "for file in file_name_list:\n",
    "    process_csv(file)\n",
    "\n"
   ]
  },
  {
   "cell_type": "code",
   "execution_count": null,
   "id": "437ea4f5-40df-4505-9a23-1a9b00287000",
   "metadata": {},
   "outputs": [],
   "source": []
  }
 ],
 "metadata": {
  "kernelspec": {
   "display_name": "Python 3 (ipykernel)",
   "language": "python",
   "name": "python3"
  },
  "language_info": {
   "codemirror_mode": {
    "name": "ipython",
    "version": 3
   },
   "file_extension": ".py",
   "mimetype": "text/x-python",
   "name": "python",
   "nbconvert_exporter": "python",
   "pygments_lexer": "ipython3",
   "version": "3.10.9"
  }
 },
 "nbformat": 4,
 "nbformat_minor": 5
}
